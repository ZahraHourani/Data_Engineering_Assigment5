{
 "cells": [
  {
   "cell_type": "markdown",
   "id": "c8862efc",
   "metadata": {},
   "source": [
    "#### Question 1\n",
    "Create a Class with instance attributes Write a Python program to create a Vehicle class with max_speed and mileage instance attributes"
   ]
  },
  {
   "cell_type": "code",
   "execution_count": 2,
   "id": "9d3ea2fc",
   "metadata": {},
   "outputs": [
    {
     "name": "stdout",
     "output_type": "stream",
     "text": [
      "Car max speed: 200\n",
      "Car mileage: 30\n",
      "Bike max speed: 80\n",
      "Bike mileage: 40\n"
     ]
    }
   ],
   "source": [
    "class Vehicle:\n",
    "    def __init__(self, max_speed, mileage):\n",
    "        self.max_speed = max_speed\n",
    "        self.mileage = mileage\n",
    "\n",
    "# Create instances of the Vehicle class\n",
    "car = Vehicle(max_speed=200, mileage=30)\n",
    "bike = Vehicle(max_speed=80, mileage=40)\n",
    "\n",
    "# Access instance attributes\n",
    "print(\"Car max speed:\", car.max_speed)\n",
    "print(\"Car mileage:\", car.mileage)\n",
    "\n",
    "print(\"Bike max speed:\", bike.max_speed)\n",
    "print(\"Bike mileage:\", bike.mileage)"
   ]
  },
  {
   "cell_type": "markdown",
   "id": "b0d794ea",
   "metadata": {},
   "source": [
    "#### Question 2\n",
    "Create a Vehicle class without any variables and methods"
   ]
  },
  {
   "cell_type": "code",
   "execution_count": null,
   "id": "cd6141a6",
   "metadata": {},
   "outputs": [],
   "source": [
    "class Vehicle:\n",
    "    pass\n",
    "\n",
    "# Creating instances of the Vehicle class\n",
    "car = Vehicle()\n",
    "bike = Vehicle()\n",
    "\n",
    "# Printing the instances\n",
    "print(car)\n",
    "print(bike)"
   ]
  },
  {
   "cell_type": "markdown",
   "id": "78fcb030",
   "metadata": {},
   "source": [
    "#### Question 3 \n",
    "Create a child class Bus that will inherit all of the variables and methods of the Vehicle class"
   ]
  },
  {
   "cell_type": "code",
   "execution_count": 3,
   "id": "e53707fb",
   "metadata": {},
   "outputs": [
    {
     "name": "stdout",
     "output_type": "stream",
     "text": [
      "Bus max speed: 60\n",
      "Bus mileage: 10\n"
     ]
    }
   ],
   "source": [
    "class Vehicle:\n",
    "    def __init__(self, max_speed, mileage):\n",
    "        self.max_speed = max_speed\n",
    "        self.mileage = mileage\n",
    "\n",
    "class Bus(Vehicle):\n",
    "    pass\n",
    "\n",
    "# Creating instances of the Bus class\n",
    "bus = Bus(max_speed=60, mileage=10)\n",
    "\n",
    "# Accessing attributes from the parent class\n",
    "print(\"Bus max speed:\", bus.max_speed)\n",
    "print(\"Bus mileage:\", bus.mileage)"
   ]
  },
  {
   "cell_type": "markdown",
   "id": "df9637af",
   "metadata": {},
   "source": [
    "#### Question 4\n",
    "Create a Bus class that inherits from the Vehicle class. Give the capacity argument of Bus.seating_capacity() a default value of 50. Use the following code for your parent Vehicle class."
   ]
  },
  {
   "cell_type": "code",
   "execution_count": 10,
   "id": "5d7cb6fa",
   "metadata": {},
   "outputs": [
    {
     "name": "stdout",
     "output_type": "stream",
     "text": [
      "Bus max speed: 60\n",
      "Bus mileage: 10\n",
      "Bus capacity: The bus can seat up to 50 passengers.\n"
     ]
    }
   ],
   "source": [
    "class Vehicle:\n",
    "    def __init__(self, max_speed, mileage):\n",
    "        self.max_speed = max_speed\n",
    "        self.mileage = mileage\n",
    "\n",
    "class Bus(Vehicle):\n",
    "    def seating_capacity(self, capacity=50):\n",
    "        return f\"The bus can seat up to {capacity} passengers.\"\n",
    "\n",
    "# Creating an instance of the Bus class\n",
    "bus = Bus(max_speed=60, mileage=10)\n",
    "\n",
    "# Accessing attributes from the parent class\n",
    "print(\"Bus max speed:\", bus.max_speed)\n",
    "print(\"Bus mileage:\", bus.mileage)\n",
    "\n",
    "# Calling the seating_capacity method with default value\n",
    "print(\"Bus capacity:\", bus.seating_capacity())"
   ]
  },
  {
   "cell_type": "markdown",
   "id": "cffe3667",
   "metadata": {},
   "source": [
    "#### Question 5 \n",
    "Define a property that must have the same value for every class instance (object) Define a class attribute”color” with a default value white. I.e., Every Vehicle should be white"
   ]
  },
  {
   "cell_type": "code",
   "execution_count": 11,
   "id": "566c7a53",
   "metadata": {},
   "outputs": [
    {
     "name": "stdout",
     "output_type": "stream",
     "text": [
      "Car 1 color: white\n",
      "Car 2 color: white\n"
     ]
    }
   ],
   "source": [
    "class Vehicle:\n",
    "    color = \"white\"  # Class attribute with default value\n",
    "    \n",
    "    def __init__(self, max_speed, mileage):\n",
    "        self.max_speed = max_speed\n",
    "        self.mileage = mileage\n",
    "\n",
    "# Creating instances of the Vehicle class\n",
    "car1 = Vehicle(max_speed=200, mileage=30)\n",
    "car2 = Vehicle(max_speed=180, mileage=25)\n",
    "\n",
    "# Accessing class attribute\n",
    "print(\"Car 1 color:\", car1.color)  # Output: white\n",
    "print(\"Car 2 color:\", car2.color)  # Output: white"
   ]
  },
  {
   "cell_type": "markdown",
   "id": "22942ef3",
   "metadata": {},
   "source": [
    "#### Question 6\n",
    "Create a Bus child class that inherits from the Vehicle class. The default fare charge of any vehicle is seating capacity * 100. If Vehicle is Bus instance, we need to add an extra 10% on full fare as a maintenance charge. So total fare for bus instance will become the final amount = total fare + 10% of the total fare. Note: The bus seating capacity is 50. so the final fare amount should be 5500. You need to override the fare() method of a Vehicle class in Bus class."
   ]
  },
  {
   "cell_type": "code",
   "execution_count": 17,
   "id": "3c76879c",
   "metadata": {},
   "outputs": [
    {
     "name": "stdout",
     "output_type": "stream",
     "text": [
      "Bus color: white\n",
      "Bus fare: 5500.0\n"
     ]
    }
   ],
   "source": [
    "class Vehicle:\n",
    "    color = \"white\"  # Class attribute with default value\n",
    "    \n",
    "    def __init__(self, max_speed, mileage):\n",
    "        self.max_speed = max_speed\n",
    "        self.mileage = mileage\n",
    "\n",
    "    def fare(self):\n",
    "        return self.seating_capacity() * 100\n",
    "\n",
    "class Bus(Vehicle):\n",
    "    def seating_capacity(self):\n",
    "        return 50  # Bus seating capacity\n",
    "\n",
    "    def fare(self):\n",
    "        total_fare = super().fare()  # Call the parent class's fare() method\n",
    "        return total_fare + (0.10 * total_fare)  # Add 10% maintenance charge\n",
    "\n",
    "# Creating an instance of the Bus class\n",
    "bus = Bus(max_speed=60, mileage=10)\n",
    "\n",
    "# Accessing class attribute\n",
    "print(\"Bus color:\", bus.color)  # Output: white\n",
    "\n",
    "# Calculate and print fare for the bus\n",
    "print(\"Bus fare:\", bus.fare())  # Output: 5500.0"
   ]
  },
  {
   "cell_type": "markdown",
   "id": "ba112bcc",
   "metadata": {},
   "source": [
    "#### Question 7\n",
    "Check type of an object Write a program to determine which class a given Bus object belongs to"
   ]
  },
  {
   "cell_type": "code",
   "execution_count": 19,
   "id": "e5d86516",
   "metadata": {},
   "outputs": [
    {
     "name": "stdout",
     "output_type": "stream",
     "text": [
      "The object is an instance of Bus class.\n"
     ]
    }
   ],
   "source": [
    "class Vehicle:\n",
    "    color = \"white\"\n",
    "    \n",
    "    def __init__(self, max_speed, mileage):\n",
    "        self.max_speed = max_speed\n",
    "        self.mileage = mileage\n",
    "\n",
    "class Bus(Vehicle):\n",
    "    def seating_capacity(self):\n",
    "        return 50\n",
    "\n",
    "# Creating an instance of the Bus class\n",
    "bus = Bus(max_speed=60, mileage=10)\n",
    "\n",
    "# Checking the type of the object\n",
    "if isinstance(bus, Bus):\n",
    "    print(\"The object is an instance of Bus class.\")\n",
    "elif isinstance(bus, Vehicle):\n",
    "    print(\"The object is an instance of Vehicle class.\")\n",
    "else:\n",
    "    print(\"The object does not belong to Bus or Vehicle class.\")"
   ]
  },
  {
   "cell_type": "markdown",
   "id": "c5d1bfe9",
   "metadata": {},
   "source": [
    "#### Question 8 \n",
    "Determine if School_bus is also an instance of the Vehicle class"
   ]
  },
  {
   "cell_type": "code",
   "execution_count": 22,
   "id": "b8dc3e45",
   "metadata": {},
   "outputs": [
    {
     "name": "stdout",
     "output_type": "stream",
     "text": [
      "The object is an instance of Vehicle class.\n"
     ]
    }
   ],
   "source": [
    "class Vehicle:\n",
    "    color = \"white\"\n",
    "    \n",
    "    def __init__(self, max_speed, mileage):\n",
    "        self.max_speed = max_speed\n",
    "        self.mileage = mileage\n",
    "\n",
    "class Bus(Vehicle):\n",
    "    def seating_capacity(self):\n",
    "        return 50\n",
    "    \n",
    "    def fare(self):\n",
    "        total_fare = super().fare()\n",
    "        return total_fare + (0.10 * total_fare)\n",
    "\n",
    "# Creating instances of the classes\n",
    "bus = Bus(max_speed=60, mileage=10)\n",
    "school_bus = Bus(max_speed=50, mileage=15)  # Assuming School_bus is an instance of Bus\n",
    "\n",
    "# Checking if school_bus is an instance of Vehicle class\n",
    "if isinstance(school_bus, Vehicle):\n",
    "    print(\"The object is an instance of Vehicle class.\")\n",
    "else:\n",
    "    print(\"The object does not belong to Bus or Vehicle class.\")"
   ]
  },
  {
   "cell_type": "code",
   "execution_count": null,
   "id": "265e6f15",
   "metadata": {},
   "outputs": [],
   "source": []
  }
 ],
 "metadata": {
  "kernelspec": {
   "display_name": "Python 3 (ipykernel)",
   "language": "python",
   "name": "python3"
  },
  "language_info": {
   "codemirror_mode": {
    "name": "ipython",
    "version": 3
   },
   "file_extension": ".py",
   "mimetype": "text/x-python",
   "name": "python",
   "nbconvert_exporter": "python",
   "pygments_lexer": "ipython3",
   "version": "3.11.4"
  }
 },
 "nbformat": 4,
 "nbformat_minor": 5
}
